{
 "cells": [
  {
   "cell_type": "code",
   "execution_count": 2,
   "metadata": {},
   "outputs": [],
   "source": [
    "from urllib.request import urlopen"
   ]
  },
  {
   "cell_type": "code",
   "execution_count": 3,
   "metadata": {},
   "outputs": [
    {
     "name": "stdout",
     "output_type": "stream",
     "text": [
      "b'<!DOCTYPE html>\\n<html lang=\"en-US\" class=\"no-js\">\\n<head>\\n\\t<meta charset=\"UTF-8\">\\n\\t<meta name=\"viewport\" content=\"width=device-width, initial-scale=1\">\\n\\t<link rel=\"profile\" href=\"http://gmpg.org/xfn/11\">\\n\\t\\t<script>(function(html){html.className = html.className.replace(/\\\\bno-js\\\\b/,\\'js\\')})(document.documentElement);</script>\\n<title>Python &#8211; Dr. Feng Li</title>\\n<link rel=\\'dns-prefetch\\' href=\\'//feng.li\\' />\\n<link rel=\\'dns-prefetch\\' href=\\'//fonts.googleapis.com\\' />\\n<link rel=\\'dns-prefetch\\' href=\\'//s.w.org\\' />\\n<link rel=\"alternate\" type=\"application/rss+xml\" title=\"Dr. Feng Li &raquo; Feed\" href=\"https://feng.li/feed/\" />\\n<link rel=\"alternate\" type=\"application/rss+xml\" title=\"Dr. Feng Li &raquo; Comments Feed\" href=\"https://feng.li/comments/feed/\" />\\n\\t\\t<script type=\"text/javascript\">\\n\\t\\t\\twindow._wpemojiSettings = {\"baseUrl\":\"https:\\\\/\\\\/s.w.org\\\\/images\\\\/core\\\\/emoji\\\\/2.4\\\\/72x72\\\\/\",\"ext\":\".png\",\"svgUrl\":\"https:\\\\/\\\\/s.w.org\\\\/images\\\\/core\\\\/emoji\\\\/2.4\\\\/svg\\\\/\",\"svgExt\":\".svg\",\"source\":{\"concatemoji\":\"https:\\\\/\\\\/feng.li\\\\/wordpress\\\\/wp-includes\\\\/js\\\\/wp-emoji-release.min.js?ver=4.9.6\"}};\\n\\t\\t\\t!function(a,b,c){function d(a,b){var c=String.fromCharCode;l.clearRect(0,0,k.width,k.height),l.fillText(c.apply(this,a),0,0);var d=k.toDataURL();l.clearRect(0,0,k.width,k.height),l.fillText(c.apply(this,b),0,0);var e=k.toDataURL();return d===e}function e(a){var b;if(!l||!l.fillText)return!1;switch(l.textBaseline=\"top\",l.font=\"600 32px Arial\",a){case\"flag\":return!(b=d([55356,56826,55356,56819],[55356,56826,8203,55356,56819]))&&(b=d([55356,57332,56128,56423,56128,56418,56128,56421,56128,56430,56128,56423,56128,56447],[55356,57332,8203,56128,56423,8203,56128,56418,8203,56128,56421,8203,56128,56430,8203,56128,56423,8203,56128,56447]),!b);case\"emoji\":return b=d([55357,56692,8205,9792,65039],[55357,56692,8203,9792,65039]),!b}return!1}function f(a){var c=b.createElement(\"script\");c.src=a,c.defer=c.type=\"text/javascript\",b.getElementsByTagName(\"head\")[0].appendChild(c)}var g,h,i,j,k=b.createElement(\"canvas\"),l=k.getContext&&k.getContext(\"2d\");for(j=Array(\"flag\",\"emoji\"),c.supports={everything:!0,everythingExceptFlag:!0},i=0;i<j.length;i++)c.supports[j[i]]=e(j[i]),c.supports.everything=c.supports.everything&&c.supports[j[i]],\"flag\"!==j[i]&&(c.supports.everythingExceptFlag=c.supports.everythingExceptFlag&&c.supports[j[i]]);c.supports.everythingExceptFlag=c.supports.everythingExceptFlag&&!c.supports.flag,c.DOMReady=!1,c.readyCallback=function(){c.DOMReady=!0},c.supports.everything||(h=function(){c.readyCallback()},b.addEventListener?(b.addEventListener(\"DOMContentLoaded\",h,!1),a.addEventListener(\"load\",h,!1)):(a.attachEvent(\"onload\",h),b.attachEvent(\"onreadystatechange\",function(){\"complete\"===b.readyState&&c.readyCallback()})),g=c.source||{},g.concatemoji?f(g.concatemoji):g.wpemoji&&g.twemoji&&(f(g.twemoji),f(g.wpemoji)))}(window,document,window._wpemojiSettings);\\n\\t\\t</script>\\n\\t\\t<style type=\"text/css\">\\nimg.wp-smiley,\\nimg.emoji {\\n\\tdisplay: inline !important;\\n\\tborder: none !important;\\n\\tbox-shadow: none !important;\\n\\theight: 1em !important;\\n\\twidth: 1em !important;\\n\\tmargin: 0 .07em !important;\\n\\tvertical-align: -0.1em !important;\\n\\tbackground: none !important;\\n\\tpadding: 0 !important;\\n}\\n</style>\\n<link rel=\\'stylesheet\\' id=\\'toc-screen-css\\'  href=\\'https://feng.li/wordpress/wp-content/plugins/table-of-contents-plus/screen.min.css?ver=1509\\' type=\\'text/css\\' media=\\'all\\' />\\n<link rel=\\'stylesheet\\' id=\\'twentysixteen-fonts-css\\'  href=\\'https://fonts.googleapis.com/css?family=Merriweather%3A400%2C700%2C900%2C400italic%2C700italic%2C900italic%7CMontserrat%3A400%2C700%7CInconsolata%3A400&#038;subset=latin%2Clatin-ext\\' type=\\'text/css\\' media=\\'all\\' />\\n<link rel=\\'stylesheet\\' id=\\'genericons-css\\'  href=\\'https://feng.li/wordpress/wp-content/themes/twentysixteen/genericons/genericons.css?ver=3.4.1\\' type=\\'text/css\\' media=\\'all\\' />\\n<link rel=\\'stylesheet\\' id=\\'twentysixteen-style-css\\'  href=\\'https://feng.li/wordpress/wp-content/themes/twentysixteen/style.css?ver=4.9.6\\' type=\\'text/css\\' media=\\'all\\' />\\n<!--[if lt IE 10]>\\n<link rel=\\'stylesheet\\' id=\\'twentysixteen-ie-css\\'  href=\\'https://feng.li/wordpress/wp-content/themes/twentysixteen/css/ie.css?ver=20160816\\' type=\\'text/css\\' media=\\'all\\' />\\n<![endif]-->\\n<!--[if lt IE 9]>\\n<link rel=\\'stylesheet\\' id=\\'twentysixteen-ie8-css\\'  href=\\'https://feng.li/wordpress/wp-content/themes/twentysixteen/css/ie8.css?ver=20160816\\' type=\\'text/css\\' media=\\'all\\' />\\n<![endif]-->\\n<!--[if lt IE 8]>\\n<link rel=\\'stylesheet\\' id=\\'twentysixteen-ie7-css\\'  href=\\'https://feng.li/wordpress/wp-content/themes/twentysixteen/css/ie7.css?ver=20160816\\' type=\\'text/css\\' media=\\'all\\' />\\n<![endif]-->\\n<script type=\\'text/javascript\\' src=\\'https://feng.li/wordpress/wp-includes/js/jquery/jquery.js?ver=1.12.4\\'></script>\\n<script type=\\'text/javascript\\' src=\\'https://feng.li/wordpress/wp-includes/js/jquery/jquery-migrate.min.js?ver=1.4.1\\'></script>\\n<!--[if lt IE 9]>\\n<script type=\\'text/javascript\\' src=\\'https://feng.li/wordpress/wp-content/themes/twentysixteen/js/html5.js?ver=3.7.3\\'></script>\\n<![endif]-->\\n<link rel=\\'https://api.w.org/\\' href=\\'https://feng.li/wp-json/\\' />\\n<link rel=\"EditURI\" type=\"application/rsd+xml\" title=\"RSD\" href=\"https://feng.li/wordpress/xmlrpc.php?rsd\" />\\n<link rel=\"wlwmanifest\" type=\"application/wlwmanifest+xml\" href=\"https://feng.li/wordpress/wp-includes/wlwmanifest.xml\" /> \\n<meta name=\"generator\" content=\"WordPress 4.9.6\" />\\n<link rel=\"canonical\" href=\"https://feng.li/python/\" />\\n<link rel=\\'shortlink\\' href=\\'https://feng.li/?p=1525\\' />\\n<link rel=\"alternate\" type=\"application/json+oembed\" href=\"https://feng.li/wp-json/oembed/1.0/embed?url=https%3A%2F%2Ffeng.li%2Fpython%2F\" />\\n<link rel=\"alternate\" type=\"text/xml+oembed\" href=\"https://feng.li/wp-json/oembed/1.0/embed?url=https%3A%2F%2Ffeng.li%2Fpython%2F&#038;format=xml\" />\\n\\t\\t<style type=\"text/css\">.recentcomments a{display:inline !important;padding:0 !important;margin:0 !important;}</style>\\n\\t\\t<script type=\"text/javascript\" async\\n  \\tsrc=\"/MathJax/MathJax.js?config=TeX-MML-AM_CHTML\">\\n</script>\\n<script>\\n  (function(i,s,o,g,r,a,m){i[\\'GoogleAnalyticsObject\\']=r;i[r]=i[r]||function(){\\n  (i[r].q=i[r].q||[]).push(arguments)},i[r].l=1*new Date();a=s.createElement(o),\\n  m=s.getElementsByTagName(o)[0];a.async=1;a.src=g;m.parentNode.insertBefore(a,m)\\n  })(window,document,\\'script\\',\\'https://www.google-analytics.com/analytics.js\\',\\'ga\\');\\n\\n  ga(\\'create\\', \\'UA-36759063-1\\', \\'auto\\');\\n  ga(\\'send\\', \\'pageview\\');\\n\\n</script>\\n</head>\\n\\n<body class=\"page-template-default page page-id-1525\">\\n<div id=\"page\" class=\"site\">\\n\\t<div class=\"site-inner\">\\n\\t\\t<a class=\"skip-link screen-reader-text\" href=\"#content\">Skip to content</a>\\n\\n\\t\\t<header id=\"masthead\" class=\"site-header\" role=\"banner\">\\n\\t\\t\\t<div class=\"site-header-main\">\\n\\t\\t\\t\\t<div class=\"site-branding\">\\n\\t\\t\\t\\t\\t\\n\\t\\t\\t\\t\\t\\t\\t\\t\\t\\t\\t<p class=\"site-title\"><a href=\"https://feng.li/\" rel=\"home\">Dr. Feng Li</a></p>\\n\\t\\t\\t\\t\\t\\t\\t\\t\\t\\t\\t<p class=\"site-description\">Personal Site</p>\\n\\t\\t\\t\\t\\t\\t\\t\\t\\t</div><!-- .site-branding -->\\n\\n\\t\\t\\t\\t\\t\\t\\t\\t\\t<button id=\"menu-toggle\" class=\"menu-toggle\">Menu</button>\\n\\n\\t\\t\\t\\t\\t<div id=\"site-header-menu\" class=\"site-header-menu\">\\n\\t\\t\\t\\t\\t\\t\\t\\t\\t\\t\\t\\t\\t<nav id=\"site-navigation\" class=\"main-navigation\" role=\"navigation\" aria-label=\"Primary Menu\">\\n\\t\\t\\t\\t\\t\\t\\t\\t<div class=\"menu-menu-1-container\"><ul id=\"menu-menu-1\" class=\"primary-menu\"><li id=\"menu-item-441\" class=\"menu-item menu-item-type-post_type menu-item-object-page menu-item-has-children menu-item-441\"><a href=\"https://feng.li/research/\">Research</a>\\n<ul class=\"sub-menu\">\\n\\t<li id=\"menu-item-1503\" class=\"menu-item menu-item-type-custom menu-item-object-custom menu-item-1503\"><a href=\"/research\">Publications &#038; Projects</a></li>\\n\\t<li id=\"menu-item-442\" class=\"menu-item menu-item-type-post_type menu-item-object-page menu-item-442\"><a href=\"https://feng.li/research/code/\">Computer Code</a></li>\\n\\t<li id=\"menu-item-917\" class=\"menu-item menu-item-type-post_type menu-item-object-page menu-item-917\"><a href=\"https://feng.li/research/services/\">Academic Services</a></li>\\n\\t<li id=\"menu-item-915\" class=\"menu-item menu-item-type-post_type menu-item-object-page menu-item-915\"><a href=\"https://feng.li/research/distributed-statistical-computing/\">Book: Distributed Statistical Computing for Big Data</a></li>\\n</ul>\\n</li>\\n<li id=\"menu-item-443\" class=\"menu-item menu-item-type-post_type menu-item-object-page menu-item-443\"><a href=\"https://feng.li/teaching/\">Teaching</a></li>\\n<li id=\"menu-item-444\" class=\"menu-item menu-item-type-post_type menu-item-object-page menu-item-444\"><a href=\"https://feng.li/blog/\">Blog</a></li>\\n<li id=\"menu-item-927\" class=\"menu-item menu-item-type-post_type menu-item-object-page menu-item-927\"><a href=\"https://feng.li/traveling/\">Traveling</a></li>\\n<li id=\"menu-item-445\" class=\"menu-item menu-item-type-post_type menu-item-object-page menu-item-445\"><a href=\"https://feng.li/contact/\">Contact</a></li>\\n<li id=\"menu-item-446\" class=\"menu-item menu-item-type-post_type menu-item-object-page menu-item-446\"><a href=\"https://feng.li/cn/\">\\xe6\\x9d\\x8e\\xe4\\xb8\\xb0</a></li>\\n<li id=\"menu-item-1237\" class=\"menu-item menu-item-type-custom menu-item-object-custom menu-item-1237\"><a href=\"http://yanfei.site/\">Life Partner</a></li>\\n<li id=\"menu-item-916\" class=\"menu-item menu-item-type-post_type menu-item-object-page menu-item-916\"><a href=\"https://feng.li/students/\">Students</a></li>\\n</ul></div>\\t\\t\\t\\t\\t\\t\\t</nav><!-- .main-navigation -->\\n\\t\\t\\t\\t\\t\\t\\n\\t\\t\\t\\t\\t\\t\\t\\t\\t\\t\\t</div><!-- .site-header-menu -->\\n\\t\\t\\t\\t\\t\\t\\t</div><!-- .site-header-main -->\\n\\n\\t\\t\\t\\t\\t</header><!-- .site-header -->\\n\\n\\t\\t<div id=\"content\" class=\"site-content\">\\n\\n<div id=\"primary\" class=\"content-area\">\\n\\t<main id=\"main\" class=\"site-main\" role=\"main\">\\n\\t\\t\\n<article id=\"post-1525\" class=\"post-1525 page type-page status-publish hentry\">\\n\\t<header class=\"entry-header\">\\n\\t\\t<h1 class=\"entry-title\">Python</h1>\\t</header><!-- .entry-header -->\\n\\n\\t\\n\\t<div class=\"entry-content\">\\n\\t\\t<p>This page serves as the primary guide for my students who want to learn Python.</p>\\n\\t</div><!-- .entry-content -->\\n\\n\\t\\n</article><!-- #post-## -->\\n\\n\\t</main><!-- .site-main -->\\n\\n\\t\\n</div><!-- .content-area -->\\n\\n\\n\\t<aside id=\"secondary\" class=\"sidebar widget-area\" role=\"complementary\">\\n\\t\\t<section id=\"search-2\" class=\"widget widget_search\">\\n<form role=\"search\" method=\"get\" class=\"search-form\" action=\"https://feng.li/\">\\n\\t<label>\\n\\t\\t<span class=\"screen-reader-text\">Search for:</span>\\n\\t\\t<input type=\"search\" class=\"search-field\" placeholder=\"Search &hellip;\" value=\"\" name=\"s\" />\\n\\t</label>\\n\\t<button type=\"submit\" class=\"search-submit\"><span class=\"screen-reader-text\">Search</span></button>\\n</form>\\n</section><section id=\"text-7\" class=\"widget widget_text\"><h2 class=\"widget-title\">Recent Teaching</h2>\\t\\t\\t<div class=\"textwidget\"><p><a href=\"/teaching/sc2018spring/\">Statistical Computing</a> (undergraduate level)</p>\\n<p><a href=\"/teaching/scs2018spring\">Statistical Case Studies</a> (graduate level)<strong>\\xc2\\xa0</strong></p>\\n<p><a href=\"/teaching/pc2017fall\">Distributed Statistical Computing for Big Data</a>\\xc2\\xa0(graduate level)<strong>\\xc2\\xa0</strong></p>\\n<p><a href=\"http://feng.li/teaching/bda2017/\">Bayesian Data Analysis</a> (graduate level)<strong>\\xc2\\xa0</strong></p>\\n</div>\\n\\t\\t</section>\\t\\t<section id=\"recent-posts-2\" class=\"widget widget_recent_entries\">\\t\\t<h2 class=\"widget-title\">Recent Posts &#038; News</h2>\\t\\t<ul>\\n\\t\\t\\t\\t\\t\\t\\t\\t\\t\\t\\t<li>\\n\\t\\t\\t\\t\\t<a href=\"https://feng.li/webinar-tool-chain-for-data-science/\">Webinar: Tool Chain for Data Science</a>\\n\\t\\t\\t\\t\\t\\t\\t\\t\\t\\t\\t<span class=\"post-date\">April 20, 2018</span>\\n\\t\\t\\t\\t\\t\\t\\t\\t\\t</li>\\n\\t\\t\\t\\t\\t\\t\\t\\t\\t\\t\\t<li>\\n\\t\\t\\t\\t\\t<a href=\"https://feng.li/the-2017-beijing-workshop-on-forecasting/\">Workshop: The 2017 Beijing Workshop on Forecasting</a>\\n\\t\\t\\t\\t\\t\\t\\t\\t\\t\\t\\t<span class=\"post-date\">November 7, 2017</span>\\n\\t\\t\\t\\t\\t\\t\\t\\t\\t</li>\\n\\t\\t\\t\\t\\t\\t\\t\\t\\t\\t\\t<li>\\n\\t\\t\\t\\t\\t<a href=\"https://feng.li/dng/\">R package: dng &#8211; distributions and gradients</a>\\n\\t\\t\\t\\t\\t\\t\\t\\t\\t\\t\\t<span class=\"post-date\">September 21, 2017</span>\\n\\t\\t\\t\\t\\t\\t\\t\\t\\t</li>\\n\\t\\t\\t\\t\\t\\t\\t\\t\\t\\t\\t<li>\\n\\t\\t\\t\\t\\t<a href=\"https://feng.li/credit-risk/\">Paper: Credit Risk Clustering with Covariate-dependent Copula Models</a>\\n\\t\\t\\t\\t\\t\\t\\t\\t\\t\\t\\t<span class=\"post-date\">July 31, 2017</span>\\n\\t\\t\\t\\t\\t\\t\\t\\t\\t</li>\\n\\t\\t\\t\\t\\t\\t\\t\\t\\t\\t\\t<li>\\n\\t\\t\\t\\t\\t<a href=\"https://feng.li/on-writing-mail/\">To my students: on writing mail</a>\\n\\t\\t\\t\\t\\t\\t\\t\\t\\t\\t\\t<span class=\"post-date\">October 9, 2015</span>\\n\\t\\t\\t\\t\\t\\t\\t\\t\\t</li>\\n\\t\\t\\t\\t\\t</ul>\\n\\t\\t</section><section id=\"categories-2\" class=\"widget widget_categories\"><h2 class=\"widget-title\">Categories</h2>\\t\\t<ul>\\n\\t<li class=\"cat-item cat-item-1\"><a href=\"https://feng.li/category/default/\" >Default</a>\\n</li>\\n\\t<li class=\"cat-item cat-item-9\"><a href=\"https://feng.li/category/latex/\" >LaTeX</a>\\n</li>\\n\\t<li class=\"cat-item cat-item-11\"><a href=\"https://feng.li/category/paper/\" >Paper</a>\\n</li>\\n\\t<li class=\"cat-item cat-item-8\"><a href=\"https://feng.li/category/paper-reading/\" >Paper reading</a>\\n</li>\\n\\t<li class=\"cat-item cat-item-5\"><a href=\"https://feng.li/category/r-lang/\" >R</a>\\n</li>\\n\\t\\t</ul>\\n</section><section id=\"recent-comments-2\" class=\"widget widget_recent_comments\"><h2 class=\"widget-title\">Recent Comments</h2><ul id=\"recentcomments\"><li class=\"recentcomments\"><span class=\"comment-author-link\">\\xe6\\x9d\\x8e\\xe6\\x99\\xb6\\xe8\\x8e\\xb9</span> on <a href=\"https://feng.li/teaching/scs2018spring/#comment-84246\">Statistical Case Studies (2018 Spring)</a></li><li class=\"recentcomments\"><span class=\"comment-author-link\">\\xe6\\xaf\\x9b\\xe5\\x8d\\x93\\xe5\\xb0\\x8f\\xe7\\xbb\\x84</span> on <a href=\"https://feng.li/teaching/scs2018spring/#comment-84245\">Statistical Case Studies (2018 Spring)</a></li><li class=\"recentcomments\"><span class=\"comment-author-link\">\\xe6\\xa2\\x81\\xe8\\xb6\\x85</span> on <a href=\"https://feng.li/teaching/scs2018spring/#comment-84244\">Statistical Case Studies (2018 Spring)</a></li><li class=\"recentcomments\"><span class=\"comment-author-link\">\\xe5\\x88\\x98\\xe6\\x98\\x9f</span> on <a href=\"https://feng.li/teaching/scs2018spring/#comment-84243\">Statistical Case Studies (2018 Spring)</a></li><li class=\"recentcomments\"><span class=\"comment-author-link\">\\xe8\\xae\\xb8\\xe6\\x98\\x8e</span> on <a href=\"https://feng.li/teaching/scs2018spring/#comment-84242\">Statistical Case Studies (2018 Spring)</a></li></ul></section><section id=\"text-6\" class=\"widget widget_text\"><h2 class=\"widget-title\">\\xc2\\xa9 Feng Li</h2>\\t\\t\\t<div class=\"textwidget\">The views and opinions expressed in this page are solely the responsibility of the author and should not be interpreted as reflecting the views of the author\\'s affiliations now or then. \\r\\n\\r\\n<a href=\"/contact\"><img class=\"wp-image-650 aligncenter\" alt=\"contact-qr-en\" src=\"/files/contact-qr-en.png\" width=\"300\" height=\"300\" /></a>\\r\\n</div>\\n\\t\\t</section>\\t</aside><!-- .sidebar .widget-area -->\\n\\n\\t\\t</div><!-- .site-content -->\\n\\n\\t\\t<footer id=\"colophon\" class=\"site-footer\" role=\"contentinfo\">\\n\\t\\t\\t\\t\\t\\t\\t<nav class=\"main-navigation\" role=\"navigation\" aria-label=\"Footer Primary Menu\">\\n\\t\\t\\t\\t\\t<div class=\"menu-menu-1-container\"><ul id=\"menu-menu-2\" class=\"primary-menu\"><li class=\"menu-item menu-item-type-post_type menu-item-object-page menu-item-has-children menu-item-441\"><a href=\"https://feng.li/research/\">Research</a>\\n<ul class=\"sub-menu\">\\n\\t<li class=\"menu-item menu-item-type-custom menu-item-object-custom menu-item-1503\"><a href=\"/research\">Publications &#038; Projects</a></li>\\n\\t<li class=\"menu-item menu-item-type-post_type menu-item-object-page menu-item-442\"><a href=\"https://feng.li/research/code/\">Computer Code</a></li>\\n\\t<li class=\"menu-item menu-item-type-post_type menu-item-object-page menu-item-917\"><a href=\"https://feng.li/research/services/\">Academic Services</a></li>\\n\\t<li class=\"menu-item menu-item-type-post_type menu-item-object-page menu-item-915\"><a href=\"https://feng.li/research/distributed-statistical-computing/\">Book: Distributed Statistical Computing for Big Data</a></li>\\n</ul>\\n</li>\\n<li class=\"menu-item menu-item-type-post_type menu-item-object-page menu-item-443\"><a href=\"https://feng.li/teaching/\">Teaching</a></li>\\n<li class=\"menu-item menu-item-type-post_type menu-item-object-page menu-item-444\"><a href=\"https://feng.li/blog/\">Blog</a></li>\\n<li class=\"menu-item menu-item-type-post_type menu-item-object-page menu-item-927\"><a href=\"https://feng.li/traveling/\">Traveling</a></li>\\n<li class=\"menu-item menu-item-type-post_type menu-item-object-page menu-item-445\"><a href=\"https://feng.li/contact/\">Contact</a></li>\\n<li class=\"menu-item menu-item-type-post_type menu-item-object-page menu-item-446\"><a href=\"https://feng.li/cn/\">\\xe6\\x9d\\x8e\\xe4\\xb8\\xb0</a></li>\\n<li class=\"menu-item menu-item-type-custom menu-item-object-custom menu-item-1237\"><a href=\"http://yanfei.site/\">Life Partner</a></li>\\n<li class=\"menu-item menu-item-type-post_type menu-item-object-page menu-item-916\"><a href=\"https://feng.li/students/\">Students</a></li>\\n</ul></div>\\t\\t\\t\\t</nav><!-- .main-navigation -->\\n\\t\\t\\t\\n\\t\\t\\t\\n\\t\\t\\t<div class=\"site-info\">\\n\\t\\t\\t\\t\\t\\t\\t\\t<span class=\"site-title\"><a href=\"https://feng.li/\" rel=\"home\">Dr. Feng Li</a></span>\\n\\t\\t\\t\\t\\t\\t\\t\\t<a href=\"https://wordpress.org/\" class=\"imprint\">\\n\\t\\t\\t\\t\\tProudly powered by WordPress\\t\\t\\t\\t</a>\\n\\t\\t\\t</div><!-- .site-info -->\\n\\t\\t</footer><!-- .site-footer -->\\n\\t</div><!-- .site-inner -->\\n</div><!-- .site -->\\n\\n<script type=\\'text/javascript\\'>\\n/* <![CDATA[ */\\nvar tocplus = {\"visibility_show\":\"show\",\"visibility_hide\":\"hide\",\"width\":\"Auto\"};\\n/* ]]> */\\n</script>\\n<script type=\\'text/javascript\\' src=\\'https://feng.li/wordpress/wp-content/plugins/table-of-contents-plus/front.min.js?ver=1509\\'></script>\\n<script type=\\'text/javascript\\' src=\\'https://feng.li/wordpress/wp-content/themes/twentysixteen/js/skip-link-focus-fix.js?ver=20160816\\'></script>\\n<script type=\\'text/javascript\\'>\\n/* <![CDATA[ */\\nvar screenReaderText = {\"expand\":\"expand child menu\",\"collapse\":\"collapse child menu\"};\\n/* ]]> */\\n</script>\\n<script type=\\'text/javascript\\' src=\\'https://feng.li/wordpress/wp-content/themes/twentysixteen/js/functions.js?ver=20160816\\'></script>\\n<script type=\\'text/javascript\\' src=\\'https://feng.li/wordpress/wp-includes/js/wp-embed.min.js?ver=4.9.6\\'></script>\\n</body>\\n</html>\\n'\n"
     ]
    }
   ],
   "source": [
    "html = urlopen('https://feng.li/python/')\n",
    "print(html.read())"
   ]
  },
  {
   "cell_type": "code",
   "execution_count": 4,
   "metadata": {
    "collapsed": true
   },
   "outputs": [],
   "source": [
    "from urllib.request import urlopen\n",
    "from bs4 import BeautifulSoup"
   ]
  },
  {
   "cell_type": "code",
   "execution_count": 9,
   "metadata": {},
   "outputs": [
    {
     "name": "stdout",
     "output_type": "stream",
     "text": [
      "<!DOCTYPE html>\n",
      "\n",
      "<html class=\"no-js\" lang=\"en-US\">\n",
      "<head>\n",
      "<meta charset=\"utf-8\"/>\n",
      "<meta content=\"width=device-width, initial-scale=1\" name=\"viewport\"/>\n",
      "<link href=\"http://gmpg.org/xfn/11\" rel=\"profile\"/>\n",
      "<script>(function(html){html.className = html.className.replace(/\\bno-js\\b/,'js')})(document.documentElement);</script>\n",
      "<title>Python – Dr. Feng Li</title>\n",
      "<link href=\"//feng.li\" rel=\"dns-prefetch\">\n",
      "<link href=\"//fonts.googleapis.com\" rel=\"dns-prefetch\"/>\n",
      "<link href=\"//s.w.org\" rel=\"dns-prefetch\"/>\n",
      "<link href=\"https://feng.li/feed/\" rel=\"alternate\" title=\"Dr. Feng Li » Feed\" type=\"application/rss+xml\"/>\n",
      "<link href=\"https://feng.li/comments/feed/\" rel=\"alternate\" title=\"Dr. Feng Li » Comments Feed\" type=\"application/rss+xml\"/>\n",
      "<script type=\"text/javascript\">\n",
      "\t\t\twindow._wpemojiSettings = {\"baseUrl\":\"https:\\/\\/s.w.org\\/images\\/core\\/emoji\\/2.4\\/72x72\\/\",\"ext\":\".png\",\"svgUrl\":\"https:\\/\\/s.w.org\\/images\\/core\\/emoji\\/2.4\\/svg\\/\",\"svgExt\":\".svg\",\"source\":{\"concatemoji\":\"https:\\/\\/feng.li\\/wordpress\\/wp-includes\\/js\\/wp-emoji-release.min.js?ver=4.9.6\"}};\n",
      "\t\t\t!function(a,b,c){function d(a,b){var c=String.fromCharCode;l.clearRect(0,0,k.width,k.height),l.fillText(c.apply(this,a),0,0);var d=k.toDataURL();l.clearRect(0,0,k.width,k.height),l.fillText(c.apply(this,b),0,0);var e=k.toDataURL();return d===e}function e(a){var b;if(!l||!l.fillText)return!1;switch(l.textBaseline=\"top\",l.font=\"600 32px Arial\",a){case\"flag\":return!(b=d([55356,56826,55356,56819],[55356,56826,8203,55356,56819]))&&(b=d([55356,57332,56128,56423,56128,56418,56128,56421,56128,56430,56128,56423,56128,56447],[55356,57332,8203,56128,56423,8203,56128,56418,8203,56128,56421,8203,56128,56430,8203,56128,56423,8203,56128,56447]),!b);case\"emoji\":return b=d([55357,56692,8205,9792,65039],[55357,56692,8203,9792,65039]),!b}return!1}function f(a){var c=b.createElement(\"script\");c.src=a,c.defer=c.type=\"text/javascript\",b.getElementsByTagName(\"head\")[0].appendChild(c)}var g,h,i,j,k=b.createElement(\"canvas\"),l=k.getContext&&k.getContext(\"2d\");for(j=Array(\"flag\",\"emoji\"),c.supports={everything:!0,everythingExceptFlag:!0},i=0;i<j.length;i++)c.supports[j[i]]=e(j[i]),c.supports.everything=c.supports.everything&&c.supports[j[i]],\"flag\"!==j[i]&&(c.supports.everythingExceptFlag=c.supports.everythingExceptFlag&&c.supports[j[i]]);c.supports.everythingExceptFlag=c.supports.everythingExceptFlag&&!c.supports.flag,c.DOMReady=!1,c.readyCallback=function(){c.DOMReady=!0},c.supports.everything||(h=function(){c.readyCallback()},b.addEventListener?(b.addEventListener(\"DOMContentLoaded\",h,!1),a.addEventListener(\"load\",h,!1)):(a.attachEvent(\"onload\",h),b.attachEvent(\"onreadystatechange\",function(){\"complete\"===b.readyState&&c.readyCallback()})),g=c.source||{},g.concatemoji?f(g.concatemoji):g.wpemoji&&g.twemoji&&(f(g.twemoji),f(g.wpemoji)))}(window,document,window._wpemojiSettings);\n",
      "\t\t</script>\n",
      "<style type=\"text/css\">\n",
      "img.wp-smiley,\n",
      "img.emoji {\n",
      "\tdisplay: inline !important;\n",
      "\tborder: none !important;\n",
      "\tbox-shadow: none !important;\n",
      "\theight: 1em !important;\n",
      "\twidth: 1em !important;\n",
      "\tmargin: 0 .07em !important;\n",
      "\tvertical-align: -0.1em !important;\n",
      "\tbackground: none !important;\n",
      "\tpadding: 0 !important;\n",
      "}\n",
      "</style>\n",
      "<link href=\"https://feng.li/wordpress/wp-content/plugins/table-of-contents-plus/screen.min.css?ver=1509\" id=\"toc-screen-css\" media=\"all\" rel=\"stylesheet\" type=\"text/css\"/>\n",
      "<link href=\"https://fonts.googleapis.com/css?family=Merriweather%3A400%2C700%2C900%2C400italic%2C700italic%2C900italic%7CMontserrat%3A400%2C700%7CInconsolata%3A400&amp;subset=latin%2Clatin-ext\" id=\"twentysixteen-fonts-css\" media=\"all\" rel=\"stylesheet\" type=\"text/css\"/>\n",
      "<link href=\"https://feng.li/wordpress/wp-content/themes/twentysixteen/genericons/genericons.css?ver=3.4.1\" id=\"genericons-css\" media=\"all\" rel=\"stylesheet\" type=\"text/css\"/>\n",
      "<link href=\"https://feng.li/wordpress/wp-content/themes/twentysixteen/style.css?ver=4.9.6\" id=\"twentysixteen-style-css\" media=\"all\" rel=\"stylesheet\" type=\"text/css\"/>\n",
      "<!--[if lt IE 10]>\n",
      "<link rel='stylesheet' id='twentysixteen-ie-css'  href='https://feng.li/wordpress/wp-content/themes/twentysixteen/css/ie.css?ver=20160816' type='text/css' media='all' />\n",
      "<![endif]-->\n",
      "<!--[if lt IE 9]>\n",
      "<link rel='stylesheet' id='twentysixteen-ie8-css'  href='https://feng.li/wordpress/wp-content/themes/twentysixteen/css/ie8.css?ver=20160816' type='text/css' media='all' />\n",
      "<![endif]-->\n",
      "<!--[if lt IE 8]>\n",
      "<link rel='stylesheet' id='twentysixteen-ie7-css'  href='https://feng.li/wordpress/wp-content/themes/twentysixteen/css/ie7.css?ver=20160816' type='text/css' media='all' />\n",
      "<![endif]-->\n",
      "<script src=\"https://feng.li/wordpress/wp-includes/js/jquery/jquery.js?ver=1.12.4\" type=\"text/javascript\"></script>\n",
      "<script src=\"https://feng.li/wordpress/wp-includes/js/jquery/jquery-migrate.min.js?ver=1.4.1\" type=\"text/javascript\"></script>\n",
      "<!--[if lt IE 9]>\n",
      "<script type='text/javascript' src='https://feng.li/wordpress/wp-content/themes/twentysixteen/js/html5.js?ver=3.7.3'></script>\n",
      "<![endif]-->\n",
      "<link href=\"https://feng.li/wp-json/\" rel=\"https://api.w.org/\"/>\n",
      "<link href=\"https://feng.li/wordpress/xmlrpc.php?rsd\" rel=\"EditURI\" title=\"RSD\" type=\"application/rsd+xml\"/>\n",
      "<link href=\"https://feng.li/wordpress/wp-includes/wlwmanifest.xml\" rel=\"wlwmanifest\" type=\"application/wlwmanifest+xml\"/>\n",
      "<meta content=\"WordPress 4.9.6\" name=\"generator\">\n",
      "<link href=\"https://feng.li/python/\" rel=\"canonical\"/>\n",
      "<link href=\"https://feng.li/?p=1525\" rel=\"shortlink\"/>\n",
      "<link href=\"https://feng.li/wp-json/oembed/1.0/embed?url=https%3A%2F%2Ffeng.li%2Fpython%2F\" rel=\"alternate\" type=\"application/json+oembed\"/>\n",
      "<link href=\"https://feng.li/wp-json/oembed/1.0/embed?url=https%3A%2F%2Ffeng.li%2Fpython%2F&amp;format=xml\" rel=\"alternate\" type=\"text/xml+oembed\"/>\n",
      "<style type=\"text/css\">.recentcomments a{display:inline !important;padding:0 !important;margin:0 !important;}</style>\n",
      "<script async=\"\" src=\"/MathJax/MathJax.js?config=TeX-MML-AM_CHTML\" type=\"text/javascript\">\n",
      "</script>\n",
      "<script>\n",
      "  (function(i,s,o,g,r,a,m){i['GoogleAnalyticsObject']=r;i[r]=i[r]||function(){\n",
      "  (i[r].q=i[r].q||[]).push(arguments)},i[r].l=1*new Date();a=s.createElement(o),\n",
      "  m=s.getElementsByTagName(o)[0];a.async=1;a.src=g;m.parentNode.insertBefore(a,m)\n",
      "  })(window,document,'script','https://www.google-analytics.com/analytics.js','ga');\n",
      "\n",
      "  ga('create', 'UA-36759063-1', 'auto');\n",
      "  ga('send', 'pageview');\n",
      "\n",
      "</script>\n",
      "</meta></link></head>\n",
      "<body class=\"page-template-default page page-id-1525\">\n",
      "<div class=\"site\" id=\"page\">\n",
      "<div class=\"site-inner\">\n",
      "<a class=\"skip-link screen-reader-text\" href=\"#content\">Skip to content</a>\n",
      "<header class=\"site-header\" id=\"masthead\" role=\"banner\">\n",
      "<div class=\"site-header-main\">\n",
      "<div class=\"site-branding\">\n",
      "<p class=\"site-title\"><a href=\"https://feng.li/\" rel=\"home\">Dr. Feng Li</a></p>\n",
      "<p class=\"site-description\">Personal Site</p>\n",
      "</div><!-- .site-branding -->\n",
      "<button class=\"menu-toggle\" id=\"menu-toggle\">Menu</button>\n",
      "<div class=\"site-header-menu\" id=\"site-header-menu\">\n",
      "<nav aria-label=\"Primary Menu\" class=\"main-navigation\" id=\"site-navigation\" role=\"navigation\">\n",
      "<div class=\"menu-menu-1-container\"><ul class=\"primary-menu\" id=\"menu-menu-1\"><li class=\"menu-item menu-item-type-post_type menu-item-object-page menu-item-has-children menu-item-441\" id=\"menu-item-441\"><a href=\"https://feng.li/research/\">Research</a>\n",
      "<ul class=\"sub-menu\">\n",
      "<li class=\"menu-item menu-item-type-custom menu-item-object-custom menu-item-1503\" id=\"menu-item-1503\"><a href=\"/research\">Publications &amp; Projects</a></li>\n",
      "<li class=\"menu-item menu-item-type-post_type menu-item-object-page menu-item-442\" id=\"menu-item-442\"><a href=\"https://feng.li/research/code/\">Computer Code</a></li>\n",
      "<li class=\"menu-item menu-item-type-post_type menu-item-object-page menu-item-917\" id=\"menu-item-917\"><a href=\"https://feng.li/research/services/\">Academic Services</a></li>\n",
      "<li class=\"menu-item menu-item-type-post_type menu-item-object-page menu-item-915\" id=\"menu-item-915\"><a href=\"https://feng.li/research/distributed-statistical-computing/\">Book: Distributed Statistical Computing for Big Data</a></li>\n",
      "</ul>\n",
      "</li>\n",
      "<li class=\"menu-item menu-item-type-post_type menu-item-object-page menu-item-443\" id=\"menu-item-443\"><a href=\"https://feng.li/teaching/\">Teaching</a></li>\n",
      "<li class=\"menu-item menu-item-type-post_type menu-item-object-page menu-item-444\" id=\"menu-item-444\"><a href=\"https://feng.li/blog/\">Blog</a></li>\n",
      "<li class=\"menu-item menu-item-type-post_type menu-item-object-page menu-item-927\" id=\"menu-item-927\"><a href=\"https://feng.li/traveling/\">Traveling</a></li>\n",
      "<li class=\"menu-item menu-item-type-post_type menu-item-object-page menu-item-445\" id=\"menu-item-445\"><a href=\"https://feng.li/contact/\">Contact</a></li>\n",
      "<li class=\"menu-item menu-item-type-post_type menu-item-object-page menu-item-446\" id=\"menu-item-446\"><a href=\"https://feng.li/cn/\">李丰</a></li>\n",
      "<li class=\"menu-item menu-item-type-custom menu-item-object-custom menu-item-1237\" id=\"menu-item-1237\"><a href=\"http://yanfei.site/\">Life Partner</a></li>\n",
      "<li class=\"menu-item menu-item-type-post_type menu-item-object-page menu-item-916\" id=\"menu-item-916\"><a href=\"https://feng.li/students/\">Students</a></li>\n",
      "</ul></div> </nav><!-- .main-navigation -->\n",
      "</div><!-- .site-header-menu -->\n",
      "</div><!-- .site-header-main -->\n",
      "</header><!-- .site-header -->\n",
      "<div class=\"site-content\" id=\"content\">\n",
      "<div class=\"content-area\" id=\"primary\">\n",
      "<main class=\"site-main\" id=\"main\" role=\"main\">\n",
      "<article class=\"post-1525 page type-page status-publish hentry\" id=\"post-1525\">\n",
      "<header class=\"entry-header\">\n",
      "<h1 class=\"entry-title\">Python</h1> </header><!-- .entry-header -->\n",
      "<div class=\"entry-content\">\n",
      "<p>This page serves as the primary guide for my students who want to learn Python.</p>\n",
      "</div><!-- .entry-content -->\n",
      "</article><!-- #post-## -->\n",
      "</main><!-- .site-main -->\n",
      "</div><!-- .content-area -->\n",
      "<aside class=\"sidebar widget-area\" id=\"secondary\" role=\"complementary\">\n",
      "<section class=\"widget widget_search\" id=\"search-2\">\n",
      "<form action=\"https://feng.li/\" class=\"search-form\" method=\"get\" role=\"search\">\n",
      "<label>\n",
      "<span class=\"screen-reader-text\">Search for:</span>\n",
      "<input class=\"search-field\" name=\"s\" placeholder=\"Search …\" type=\"search\" value=\"\"/>\n",
      "</label>\n",
      "<button class=\"search-submit\" type=\"submit\"><span class=\"screen-reader-text\">Search</span></button>\n",
      "</form>\n",
      "</section><section class=\"widget widget_text\" id=\"text-7\"><h2 class=\"widget-title\">Recent Teaching</h2> <div class=\"textwidget\"><p><a href=\"/teaching/sc2018spring/\">Statistical Computing</a> (undergraduate level)</p>\n",
      "<p><a href=\"/teaching/scs2018spring\">Statistical Case Studies</a> (graduate level)<strong> </strong></p>\n",
      "<p><a href=\"/teaching/pc2017fall\">Distributed Statistical Computing for Big Data</a> (graduate level)<strong> </strong></p>\n",
      "<p><a href=\"http://feng.li/teaching/bda2017/\">Bayesian Data Analysis</a> (graduate level)<strong> </strong></p>\n",
      "</div>\n",
      "</section> <section class=\"widget widget_recent_entries\" id=\"recent-posts-2\"> <h2 class=\"widget-title\">Recent Posts &amp; News</h2> <ul>\n",
      "<li>\n",
      "<a href=\"https://feng.li/webinar-tool-chain-for-data-science/\">Webinar: Tool Chain for Data Science</a>\n",
      "<span class=\"post-date\">April 20, 2018</span>\n",
      "</li>\n",
      "<li>\n",
      "<a href=\"https://feng.li/the-2017-beijing-workshop-on-forecasting/\">Workshop: The 2017 Beijing Workshop on Forecasting</a>\n",
      "<span class=\"post-date\">November 7, 2017</span>\n",
      "</li>\n",
      "<li>\n",
      "<a href=\"https://feng.li/dng/\">R package: dng – distributions and gradients</a>\n",
      "<span class=\"post-date\">September 21, 2017</span>\n",
      "</li>\n",
      "<li>\n",
      "<a href=\"https://feng.li/credit-risk/\">Paper: Credit Risk Clustering with Covariate-dependent Copula Models</a>\n",
      "<span class=\"post-date\">July 31, 2017</span>\n",
      "</li>\n",
      "<li>\n",
      "<a href=\"https://feng.li/on-writing-mail/\">To my students: on writing mail</a>\n",
      "<span class=\"post-date\">October 9, 2015</span>\n",
      "</li>\n",
      "</ul>\n",
      "</section><section class=\"widget widget_categories\" id=\"categories-2\"><h2 class=\"widget-title\">Categories</h2> <ul>\n",
      "<li class=\"cat-item cat-item-1\"><a href=\"https://feng.li/category/default/\">Default</a>\n",
      "</li>\n",
      "<li class=\"cat-item cat-item-9\"><a href=\"https://feng.li/category/latex/\">LaTeX</a>\n",
      "</li>\n",
      "<li class=\"cat-item cat-item-11\"><a href=\"https://feng.li/category/paper/\">Paper</a>\n",
      "</li>\n",
      "<li class=\"cat-item cat-item-8\"><a href=\"https://feng.li/category/paper-reading/\">Paper reading</a>\n",
      "</li>\n",
      "<li class=\"cat-item cat-item-5\"><a href=\"https://feng.li/category/r-lang/\">R</a>\n",
      "</li>\n",
      "</ul>\n",
      "</section><section class=\"widget widget_recent_comments\" id=\"recent-comments-2\"><h2 class=\"widget-title\">Recent Comments</h2><ul id=\"recentcomments\"><li class=\"recentcomments\"><span class=\"comment-author-link\">李晶莹</span> on <a href=\"https://feng.li/teaching/scs2018spring/#comment-84246\">Statistical Case Studies (2018 Spring)</a></li><li class=\"recentcomments\"><span class=\"comment-author-link\">毛卓小组</span> on <a href=\"https://feng.li/teaching/scs2018spring/#comment-84245\">Statistical Case Studies (2018 Spring)</a></li><li class=\"recentcomments\"><span class=\"comment-author-link\">梁超</span> on <a href=\"https://feng.li/teaching/scs2018spring/#comment-84244\">Statistical Case Studies (2018 Spring)</a></li><li class=\"recentcomments\"><span class=\"comment-author-link\">刘星</span> on <a href=\"https://feng.li/teaching/scs2018spring/#comment-84243\">Statistical Case Studies (2018 Spring)</a></li><li class=\"recentcomments\"><span class=\"comment-author-link\">许明</span> on <a href=\"https://feng.li/teaching/scs2018spring/#comment-84242\">Statistical Case Studies (2018 Spring)</a></li></ul></section><section class=\"widget widget_text\" id=\"text-6\"><h2 class=\"widget-title\">© Feng Li</h2> <div class=\"textwidget\">The views and opinions expressed in this page are solely the responsibility of the author and should not be interpreted as reflecting the views of the author's affiliations now or then. \r\n",
      "\r\n",
      "<a href=\"/contact\"><img alt=\"contact-qr-en\" class=\"wp-image-650 aligncenter\" height=\"300\" src=\"/files/contact-qr-en.png\" width=\"300\"/></a>\n",
      "</div>\n",
      "</section> </aside><!-- .sidebar .widget-area -->\n",
      "</div><!-- .site-content -->\n",
      "<footer class=\"site-footer\" id=\"colophon\" role=\"contentinfo\">\n",
      "<nav aria-label=\"Footer Primary Menu\" class=\"main-navigation\" role=\"navigation\">\n",
      "<div class=\"menu-menu-1-container\"><ul class=\"primary-menu\" id=\"menu-menu-2\"><li class=\"menu-item menu-item-type-post_type menu-item-object-page menu-item-has-children menu-item-441\"><a href=\"https://feng.li/research/\">Research</a>\n",
      "<ul class=\"sub-menu\">\n",
      "<li class=\"menu-item menu-item-type-custom menu-item-object-custom menu-item-1503\"><a href=\"/research\">Publications &amp; Projects</a></li>\n",
      "<li class=\"menu-item menu-item-type-post_type menu-item-object-page menu-item-442\"><a href=\"https://feng.li/research/code/\">Computer Code</a></li>\n",
      "<li class=\"menu-item menu-item-type-post_type menu-item-object-page menu-item-917\"><a href=\"https://feng.li/research/services/\">Academic Services</a></li>\n",
      "<li class=\"menu-item menu-item-type-post_type menu-item-object-page menu-item-915\"><a href=\"https://feng.li/research/distributed-statistical-computing/\">Book: Distributed Statistical Computing for Big Data</a></li>\n",
      "</ul>\n",
      "</li>\n",
      "<li class=\"menu-item menu-item-type-post_type menu-item-object-page menu-item-443\"><a href=\"https://feng.li/teaching/\">Teaching</a></li>\n",
      "<li class=\"menu-item menu-item-type-post_type menu-item-object-page menu-item-444\"><a href=\"https://feng.li/blog/\">Blog</a></li>\n",
      "<li class=\"menu-item menu-item-type-post_type menu-item-object-page menu-item-927\"><a href=\"https://feng.li/traveling/\">Traveling</a></li>\n",
      "<li class=\"menu-item menu-item-type-post_type menu-item-object-page menu-item-445\"><a href=\"https://feng.li/contact/\">Contact</a></li>\n",
      "<li class=\"menu-item menu-item-type-post_type menu-item-object-page menu-item-446\"><a href=\"https://feng.li/cn/\">李丰</a></li>\n",
      "<li class=\"menu-item menu-item-type-custom menu-item-object-custom menu-item-1237\"><a href=\"http://yanfei.site/\">Life Partner</a></li>\n",
      "<li class=\"menu-item menu-item-type-post_type menu-item-object-page menu-item-916\"><a href=\"https://feng.li/students/\">Students</a></li>\n",
      "</ul></div> </nav><!-- .main-navigation -->\n",
      "<div class=\"site-info\">\n",
      "<span class=\"site-title\"><a href=\"https://feng.li/\" rel=\"home\">Dr. Feng Li</a></span>\n",
      "<a class=\"imprint\" href=\"https://wordpress.org/\">\n",
      "\t\t\t\t\tProudly powered by WordPress\t\t\t\t</a>\n",
      "</div><!-- .site-info -->\n",
      "</footer><!-- .site-footer -->\n",
      "</div><!-- .site-inner -->\n",
      "</div><!-- .site -->\n",
      "<script type=\"text/javascript\">\n",
      "/* <![CDATA[ */\n",
      "var tocplus = {\"visibility_show\":\"show\",\"visibility_hide\":\"hide\",\"width\":\"Auto\"};\n",
      "/* ]]> */\n",
      "</script>\n",
      "<script src=\"https://feng.li/wordpress/wp-content/plugins/table-of-contents-plus/front.min.js?ver=1509\" type=\"text/javascript\"></script>\n",
      "<script src=\"https://feng.li/wordpress/wp-content/themes/twentysixteen/js/skip-link-focus-fix.js?ver=20160816\" type=\"text/javascript\"></script>\n",
      "<script type=\"text/javascript\">\n",
      "/* <![CDATA[ */\n",
      "var screenReaderText = {\"expand\":\"expand child menu\",\"collapse\":\"collapse child menu\"};\n",
      "/* ]]> */\n",
      "</script>\n",
      "<script src=\"https://feng.li/wordpress/wp-content/themes/twentysixteen/js/functions.js?ver=20160816\" type=\"text/javascript\"></script>\n",
      "<script src=\"https://feng.li/wordpress/wp-includes/js/wp-embed.min.js?ver=4.9.6\" type=\"text/javascript\"></script>\n",
      "</body>\n",
      "</html>\n",
      "\n"
     ]
    }
   ],
   "source": [
    "html = urlopen('https://feng.li/python/')\n",
    "bs = BeautifulSoup(html.read(), 'html.parser')\n",
    "print(bs)"
   ]
  },
  {
   "cell_type": "code",
   "execution_count": 11,
   "metadata": {},
   "outputs": [
    {
     "name": "stdout",
     "output_type": "stream",
     "text": [
      "\n",
      "This page serves as the primary guide for my students who want to learn Python.\n",
      "\n"
     ]
    }
   ],
   "source": [
    "html = urlopen('https://feng.li/python/')\n",
    "bs = BeautifulSoup(html.read(), 'html.parser')\n",
    "name_list = bs.findAll('div', {'class':'entry-content'})\n",
    "for name in name_list:\n",
    "    print(name.get_text())"
   ]
  },
  {
   "cell_type": "code",
   "execution_count": 32,
   "metadata": {},
   "outputs": [],
   "source": [
    "import logging\n",
    "import requests\n",
    "import sys\n",
    "import urllib\n",
    "\n",
    "from bs4 import BeautifulSoup\n",
    "from collections import OrderedDict\n",
    "from urllib.parse import urlencode"
   ]
  },
  {
   "cell_type": "code",
   "execution_count": 28,
   "metadata": {
    "collapsed": true
   },
   "outputs": [],
   "source": [
    "def get_list(comp, page):\n",
    "    newsData = OrderedDict()\n",
    "    href = 'http://search.sina.com.cn/?%s&range=title&c=news&num=20&col=1_7&page=%s' % (comp, page)\n",
    "    print(href)\n",
    "    html = requests.get(href)\n",
    "    soup = BeautifulSoup(html.content, 'html.parser')\n",
    "    divs = soup.findAll('div', {'class': 'r-info r-info2'})\n",
    "    for div in divs:\n",
    "        head = div.findAll('h2')[0]\n",
    "        titleinfo = head.find('a')\n",
    "        title = titleinfo.get_text()\n",
    "        url = titleinfo['href']\n",
    "        otherinfo = head.find('span', {'class': 'fgray_time'}).get_text()\n",
    "        source, data, time = otherinfo.split()\n",
    "        abstract = div.find('p', {'class': 'content'}).get_text()\n",
    "        newsData[title] = [data, source, abstract, url]\n",
    "    return newsData"
   ]
  },
  {
   "cell_type": "code",
   "execution_count": 29,
   "metadata": {},
   "outputs": [
    {
     "name": "stdout",
     "output_type": "stream",
     "text": [
      "http://search.sina.com.cn/?q=%B0%D9%B6%C8&range=title&c=news&num=20&col=1_7&page=1\n"
     ]
    },
    {
     "name": "stderr",
     "output_type": "stream",
     "text": [
      "Some characters could not be decoded, and were replaced with REPLACEMENT CHARACTER.\n"
     ]
    },
    {
     "name": "stdout",
     "output_type": "stream",
     "text": [
      "百度AI开发者大会将于7月4日-5日举办\u00012018-06-04\u0001新浪财经\u0001百度AI开发者大会将于7月4日-5日举办】百度 AI 开发者大会将于7月4日-5日在北京国家会议中心举办。届时将有来自全球数千名开发者、合作伙伴齐聚，共同探讨AI最前沿技术、产业、商业化 ...\u0001http://finance.sina.com.cn/7x24/2018-06-04/doc-ihcmurvh4561607.shtml\n",
      "百度AI开发者大会定档7月4日 将发布革命性技术产品\u00012018-06-04\u0001新浪财经\u0001百度AI开发者大会定档7月4日 将发布革命性技术产品】百度今日宣布，其 AI 开发者大会“Baidu Create 2018”将于7月4日-5日在北京国家会议中心举办。\u0001http://finance.sina.com.cn/7x24/2018-06-04/doc-ihcmurvh2639331.shtml\n",
      "华为蓝血十杰黄卫伟：阿里腾讯百度都还不能说是成功\u00012018-06-03\u0001新浪财经综合\u0001阿里、腾讯、百度成功吗？华为\"蓝血十杰\"黄卫伟如是说丨管理学中国派 陈白 邹卫国 来源：经济观察报“腾讯、百度、阿里巴巴，成功吗？”谈话刚刚开始不久，黄卫伟就对我们抛出了这 ...\u0001http://finance.sina.com.cn/roll/2018-06-03/doc-ihcmurvf5968094.shtml\n",
      "百度领衔推出首个汽车移动支付解决方案：号称可以摆脱手机\u00012018-06-02\u0001澎湃新闻\u0001百度领衔推出首个汽车移动支付解决方案：号称可以摆脱手机 澎湃新闻记者 包雨朦 来源：澎湃新闻 5月31日，百度云ABC Summit 2018 Inspire智能物联网大会在深圳召开。\u0001http://finance.sina.com.cn/roll/2018-06-02/doc-ihcikcew7508375.shtml\n",
      "为什么百度踩过的坑，携程总要再跳一次？\u00012018-06-01\u0001美股综合\u0001用户口碑却逆势下滑。2015 年 10 月，在百度的资本推动下，在线旅游市场的老大老二合并，携程控股去哪儿，梁建章上了百度的船。\u0001http://finance.sina.com.cn/stock/usstock/c/2018-06-01/doc-ihcikcew3281593.shtml\n",
      "百度与深高速达成战略合作 将建立智能交通实验室\u00012018-06-01\u0001中国证券网\u00016月1日，百度与深高速（深圳高速公路股份有限公司）达成战略合作，根据介绍，百度将与深高速围绕智能交通、智慧环保、信息化升级合作三大方向，规划智慧高速体系结构和服务内容，建 ...\u0001http://finance.sina.com.cn/roll/2018-06-01/doc-ihcikcew0145584.shtml\n",
      "百度外卖吃出疑似使用过的避孕套 店主:或是气球碎片\u00012018-06-01\u0001北京时间\u0001百度外卖点餐吃出避孕套？店主：是孩子玩的气球碎片】5月28日，北京市民宋先生通过百度外卖点了沙县小吃（美域家园店）的一份拌面，结果吃出半个疑似使用过的避孕套。\u0001http://finance.sina.com.cn/consume/puguangtai/2018-06-01/doc-ihcikcew0124885.shtml\n",
      "百度与深高速达成战略合作，将建立智能交通实验室\u00012018-06-01\u0001新浪财经\u0001百度与深高速达成战略合作，将建立智能交通实验室】6月1日，百度与深高速达成战略合作，根据介绍，百度将与深高速围绕智能交通、智慧环保、信息化升级合作三大方向，规划智慧高速体 ...\u0001http://finance.sina.com.cn/7x24/2018-06-01/doc-ihcikcew0047024.shtml\n",
      "北百度南菜鸟格局初显 阿里将投资千亿布局智慧物流\u00012018-06-01\u000121世纪经济报道\u0001北百度南菜鸟格局初显 阿里将投资千亿布局智慧物流？？？？本报记者？陶力？实习生？秦元舜？杭州报道？？？？雨中的杭州博览中心，人潮涌动。\u0001http://finance.sina.com.cn/roll/2018-06-01/doc-ihcikcev8005415.shtml\n",
      "联手百度等公司，博泰推出首款汽车移动支付解决方案\u00012018-05-31\u0001雷锋网\u0001按照百度总裁张亚勤的定义，智能网联汽车落地需要从两个维度权衡，“一个是 Safety，一个是 Security”。\u0001http://finance.sina.com.cn/stock/usstock/c/2018-05-31/doc-ihcikcev5820625.shtml\n",
      "百度有望以CDR方式回归A股 其回归A股有什么好处？\u00012018-05-31\u0001新浪财经\u0001供国内投资者买卖的投资凭证，从而实现股票的异地买卖。除了百度，阿里巴巴和京东也有望回归A股，CDR首批名单可能是两家，也可能是四家。\u0001http://finance.sina.com.cn/stock/marketresearch/2018-05-31/doc-ihcikcev5565655.shtml\n",
      "百度资本今年将争取再作出三到四笔投资\u00012018-05-31\u0001新浪财经\u0001百度资本今年将争取再作出三到四笔投资】百度资本管理合伙人武文洁表示，该公司将争取在2018年内做三到四笔“大交易”。\u0001http://finance.sina.com.cn/7x24/2018-05-31/doc-ihcikcev4908496.shtml\n",
      "百度输入法输“没钱”现广告？称手机厂商自定义行为\u00012018-05-31\u0001澎湃新闻\u0001近日有网友在社交媒体上反映，使用百度输入法时会收到自动推送的广告。对此，百度回应称，这个锅百度不背。5月31日，百度输入法在官方微博上声明称：“我们已查明，该广告是手机 ...\u0001http://finance.sina.com.cn/stock/usstock/c/2018-05-31/doc-ihcikcev4180413.shtml\n",
      "百度输入法内输入\"没钱\"就出现借贷广告 已下线广告\u00012018-05-31\u0001澎湃新闻\u0001百度输入法输入“没钱”现借贷广告？称是手机厂商自定义行为 澎湃新闻记者 包雨朦 近日有网友在社交媒体上反映，使用百度输入法时会收到自动推送的广告。\u0001http://finance.sina.com.cn/roll/2018-05-31/doc-ihcikcev4070997.shtml\n",
      "百度称未在输入法中植入广告 官方版无任何广告行为\u00012018-05-31\u0001新京报\u0001百度称并未在手机输入法中植入广告，官方版无任何广告行为|新京报财讯 新京报快讯（记者 马婧）5月31日，百度手机输入法对新浪微博用户“Renegade_Neo”反映的百度输入法小米版内置广告 ...\u0001http://finance.sina.com.cn/chanjing/gsnews/2018-05-31/doc-ihcikcev3965153.shtml\n",
      "百度推移动支付车机，北汽新能源率先搭载\u00012018-05-31\u0001新浪财经\u0001百度推移动支付车机，北汽新能源率先搭载】在今日百度云智峰会开始前，百度云、博泰、NXP（恩智浦）、银联、北汽新能源五方进行了智能网联汽车信息安全体系深度合作启动仪式。前 ...\u0001http://finance.sina.com.cn/7x24/2018-05-31/doc-ihcikcev3391680.shtml\n",
      "百度向网友征集公立医院简称：围剿“冒牌”医院\u00012018-05-30\u0001环球网\u0001记者从百度官微了解到，百度法务部向百度4万名员工发起倡议后，百度开启向网友征集公立医院简称的活动。\u0001http://finance.sina.com.cn/stock/usstock/c/2018-05-30/doc-ihcffhsv8842330.shtml\n",
      "百度搜索再遭质疑：搜索iPhone故障 首推山寨维修点\u00012018-05-30\u0001新浪财经综合\u0001搜索iPhone故障 百度首推山寨维修点 来源：法制晚报 在百度上搜索苹果手机故障信息，第一条推荐却是“山寨”维修网站。\u0001http://finance.sina.com.cn/consume/puguangtai/2018-05-30/doc-ihcffhsv6988877.shtml\n",
      "为打击“仿冒”公立医院，百度向网友征集医院简称\u00012018-05-30\u0001IT之家\u0001昨日，百度通过其微信官方公众号表示，如果用户了解自己家乡医院的一些简称，且在百度（无论电脑还是手机）中用该简称进行搜索时，只要发现该医院未能在搜索结果中以首位展现官网 ...\u0001http://finance.sina.com.cn/stock/usstock/c/2018-05-30/doc-ihcffhsv3906443.shtml\n",
      "百度回应\"简单搜索称搜索没广告 却现医院推荐链接\"\u00012018-05-30\u0001北京青年报\u0001现医院链接事件 百度称“医院推荐信息并非广告”就在上周，百度搜索再度被曝出存在搜索公立医院出现民营医院、搜索疾病名称出现多个广告、搜索到的医院存在术中加价等不规范问题 ...\u0001http://finance.sina.com.cn/stock/usstock/c/2018-05-30/doc-ihcffhsv3360640.shtml\n"
     ]
    }
   ],
   "source": [
    "if __name__ == '__main__':\n",
    "    compRawStr  = '百度'\n",
    "    comp = compRawStr.encode('gbk')\n",
    "    d = {'q': comp}\n",
    "    pname = urlencode(d)\n",
    "    for page in range(1, 2):\n",
    "        newsData = get_list(pname, page)\n",
    "        for ky in newsData:\n",
    "            print('\\001'.join([ky] + newsData[ky]))"
   ]
  },
  {
   "cell_type": "code",
   "execution_count": 21,
   "metadata": {},
   "outputs": [
    {
     "name": "stdout",
     "output_type": "stream",
     "text": [
      "百度\n",
      "b'\\xb0\\xd9\\xb6\\xc8'\n",
      "{'q': b'\\xb0\\xd9\\xb6\\xc8'}\n",
      "q=%B0%D9%B6%C8\n"
     ]
    }
   ],
   "source": [
    "compRawStr  = '百度'\n",
    "print(compRawStr)\n",
    "comp = compRawStr.encode('gbk')\n",
    "print(comp)\n",
    "d = {'q': comp}\n",
    "print(d)\n",
    "pname = urlencode(d)\n",
    "print(pname)"
   ]
  },
  {
   "cell_type": "code",
   "execution_count": 76,
   "metadata": {},
   "outputs": [
    {
     "name": "stdout",
     "output_type": "stream",
     "text": [
      "http://search.sina.com.cn/?q=%B0%D9%B6%C8&range=title&c=news&num=20&col=1_7&page=1\n"
     ]
    },
    {
     "name": "stderr",
     "output_type": "stream",
     "text": [
      "Some characters could not be decoded, and were replaced with REPLACEMENT CHARACTER.\n"
     ]
    }
   ],
   "source": [
    "comp='q=%B0%D9%B6%C8'\n",
    "page=1\n",
    "newsData = OrderedDict()\n",
    "href = 'http://search.sina.com.cn/?%s&range=title&c=news&num=20&col=1_7&page=%s' % (comp, page)\n",
    "print(href)\n",
    "html = requests.get(href)\n",
    "soup = BeautifulSoup(html.content, 'html.parser')\n",
    "divs = soup.findAll('div', {'class': 'r-info r-info2'})\n",
    "for div in divs:\n",
    "    head = div.find('h2')\n",
    "    #head = div.findAll('h2')[0] \n",
    "    titleinfo = head.find('a')\n",
    "    title = titleinfo.get_text()\n",
    "    url = titleinfo['href']\n",
    "    otherinfo = head.find('span', {'class': 'fgray_time'}).get_text()\n",
    "    source, data, time = otherinfo.split()\n",
    "    abstract = div.find('p', {'class': 'content'}).get_text()\n",
    "    newsData[title] = [data, source, abstract, url]"
   ]
  },
  {
   "cell_type": "code",
   "execution_count": 60,
   "metadata": {
    "scrolled": true
   },
   "outputs": [
    {
     "data": {
      "text/plain": [
       "<div class=\"r-info r-info2\">\n",
       "<h2><a href=\"http://finance.sina.com.cn/7x24/2018-06-04/doc-ihcmurvh4561607.shtml\" target=\"_blank\"><span style=\"color:#C03\">百度</span>AI开发者大会将于7月4日-5日举办</a> <span class=\"fgray_time\">新浪财经 2018-06-04 13:42:16</span></h2>\n",
       "<p class=\"content\">百度AI开发者大会将于7月4日-5日举办】百度 AI 开发者大会将于7月4日-5日在北京国家会议中心举办。届时将有来自全球数千名开发者、合作伙伴齐聚，共同探讨AI最前沿技术、产业、商业化 ...</p>\n",
       "<!--\n",
       "<p class=\"fgray\">\n",
       "\t\t\t\t\t\t\t\t\t\t\t频道：<a href=\"http://finance.sina.com.cn/\" target=\"_blank\" class=\"fblue\">财经</a>&nbsp;&nbsp;\n",
       "\t\t\t\t\t\t\t\t\t\t\t来源：新浪财经\t\t\t\t\t</p>\n",
       "\t\t\t\t\t<p class=\"fgray\">\n",
       "\t\t\t\t\t\t\t\t\t\t\t</p>\t\t\t\t\t\n",
       "\t\t\t\t\t<p><span class=\"fgray\">标签：</span><a style=\"text-decoration:none;\" href=\"/?c=news&q=百度AI开发者大会\">百度AI开发者大会</a> <a style=\"text-decoration:none;\" href=\"/?c=news&q=百度\">百度</a> <a style=\"text-decoration:none;\" href=\"/?c=news&q=开发者大会\">开发者大会</a></p>-->\n",
       "</div>"
      ]
     },
     "execution_count": 60,
     "metadata": {},
     "output_type": "execute_result"
    }
   ],
   "source": [
    "div = divs[0]\n",
    "div"
   ]
  },
  {
   "cell_type": "code",
   "execution_count": 46,
   "metadata": {},
   "outputs": [
    {
     "name": "stdout",
     "output_type": "stream",
     "text": [
      "<class 'bs4.element.ResultSet'>\n",
      "<class 'bs4.element.Tag'>\n"
     ]
    }
   ],
   "source": [
    "print(type(divs))\n",
    "print(type(divs[0]))"
   ]
  },
  {
   "cell_type": "code",
   "execution_count": 62,
   "metadata": {
    "collapsed": true
   },
   "outputs": [],
   "source": [
    "head = div.findAll('h2')[0]\n",
    "titleinfo = head.find('a')\n",
    "title = titleinfo.get_text()\n",
    "url = titleinfo['href']\n",
    "otherinfo = head.find('span', {'class': 'fgray_time'}).get_text()\n",
    "source, data, time = otherinfo.split()\n",
    "abstract = div.find('p', {'class': 'content'}).get_text()\n",
    "newsData[title] = [data, source, abstract, url]"
   ]
  },
  {
   "cell_type": "code",
   "execution_count": 63,
   "metadata": {},
   "outputs": [
    {
     "data": {
      "text/plain": [
       "<h2><a href=\"http://finance.sina.com.cn/7x24/2018-06-04/doc-ihcmurvh4561607.shtml\" target=\"_blank\"><span style=\"color:#C03\">百度</span>AI开发者大会将于7月4日-5日举办</a> <span class=\"fgray_time\">新浪财经 2018-06-04 13:42:16</span></h2>"
      ]
     },
     "execution_count": 63,
     "metadata": {},
     "output_type": "execute_result"
    }
   ],
   "source": [
    "head = div.findAll('h2')[0] #findAll返回<class 'bs4.element.ResultSet'>\n",
    "head"
   ]
  },
  {
   "cell_type": "code",
   "execution_count": 64,
   "metadata": {},
   "outputs": [
    {
     "data": {
      "text/plain": [
       "<h2><a href=\"http://finance.sina.com.cn/7x24/2018-06-04/doc-ihcmurvh4561607.shtml\" target=\"_blank\"><span style=\"color:#C03\">百度</span>AI开发者大会将于7月4日-5日举办</a> <span class=\"fgray_time\">新浪财经 2018-06-04 13:42:16</span></h2>"
      ]
     },
     "execution_count": 64,
     "metadata": {},
     "output_type": "execute_result"
    }
   ],
   "source": [
    "head = div.find('h2') #find返回<class 'bs4.element.Tag'>\n",
    "head"
   ]
  },
  {
   "cell_type": "code",
   "execution_count": 65,
   "metadata": {},
   "outputs": [
    {
     "data": {
      "text/plain": [
       "<a href=\"http://finance.sina.com.cn/7x24/2018-06-04/doc-ihcmurvh4561607.shtml\" target=\"_blank\"><span style=\"color:#C03\">百度</span>AI开发者大会将于7月4日-5日举办</a>"
      ]
     },
     "execution_count": 65,
     "metadata": {},
     "output_type": "execute_result"
    }
   ],
   "source": [
    "titleinfo = head.find('a')\n",
    "titleinfo"
   ]
  },
  {
   "cell_type": "code",
   "execution_count": 66,
   "metadata": {},
   "outputs": [
    {
     "data": {
      "text/plain": [
       "'百度AI开发者大会将于7月4日-5日举办'"
      ]
     },
     "execution_count": 66,
     "metadata": {},
     "output_type": "execute_result"
    }
   ],
   "source": [
    "title = titleinfo.get_text()\n",
    "title"
   ]
  },
  {
   "cell_type": "code",
   "execution_count": 67,
   "metadata": {},
   "outputs": [
    {
     "data": {
      "text/plain": [
       "'http://finance.sina.com.cn/7x24/2018-06-04/doc-ihcmurvh4561607.shtml'"
      ]
     },
     "execution_count": 67,
     "metadata": {},
     "output_type": "execute_result"
    }
   ],
   "source": [
    "url = titleinfo['href']\n",
    "url"
   ]
  },
  {
   "cell_type": "code",
   "execution_count": 69,
   "metadata": {},
   "outputs": [
    {
     "data": {
      "text/plain": [
       "'新浪财经 2018-06-04 13:42:16'"
      ]
     },
     "execution_count": 69,
     "metadata": {},
     "output_type": "execute_result"
    }
   ],
   "source": [
    "otherinfo = head.find('span', {'class': 'fgray_time'}).get_text()\n",
    "otherinfo"
   ]
  },
  {
   "cell_type": "code",
   "execution_count": 70,
   "metadata": {},
   "outputs": [
    {
     "name": "stdout",
     "output_type": "stream",
     "text": [
      "新浪财经 2018-06-04 13:42:16\n"
     ]
    }
   ],
   "source": [
    "source, data, time = otherinfo.split()\n",
    "print(source, data, time)"
   ]
  },
  {
   "cell_type": "code",
   "execution_count": 71,
   "metadata": {},
   "outputs": [
    {
     "data": {
      "text/plain": [
       "'百度AI开发者大会将于7月4日-5日举办】百度 AI 开发者大会将于7月4日-5日在北京国家会议中心举办。届时将有来自全球数千名开发者、合作伙伴齐聚，共同探讨AI最前沿技术、产业、商业化 ...'"
      ]
     },
     "execution_count": 71,
     "metadata": {},
     "output_type": "execute_result"
    }
   ],
   "source": [
    "abstract = div.find('p', {'class': 'content'}).get_text()\n",
    "abstract"
   ]
  },
  {
   "cell_type": "code",
   "execution_count": 75,
   "metadata": {
    "scrolled": true
   },
   "outputs": [
    {
     "data": {
      "text/plain": [
       "OrderedDict([('百度AI开发者大会将于7月4日-5日举办',\n",
       "              ['2018-06-04',\n",
       "               '新浪财经',\n",
       "               '百度AI开发者大会将于7月4日-5日举办】百度 AI 开发者大会将于7月4日-5日在北京国家会议中心举办。届时将有来自全球数千名开发者、合作伙伴齐聚，共同探讨AI最前沿技术、产业、商业化 ...',\n",
       "               'http://finance.sina.com.cn/7x24/2018-06-04/doc-ihcmurvh4561607.shtml'])])"
      ]
     },
     "execution_count": 75,
     "metadata": {},
     "output_type": "execute_result"
    }
   ],
   "source": [
    "newsData[title] = [data, source, abstract, url]\n",
    "newsData"
   ]
  },
  {
   "cell_type": "code",
   "execution_count": 79,
   "metadata": {},
   "outputs": [
    {
     "data": {
      "text/plain": [
       "['2018-06-04',\n",
       " '新浪财经',\n",
       " '百度AI开发者大会将于7月4日-5日举办】百度 AI 开发者大会将于7月4日-5日在北京国家会议中心举办。届时将有来自全球数千名开发者、合作伙伴齐聚，共同探讨AI最前沿技术、产业、商业化 ...',\n",
       " 'http://finance.sina.com.cn/7x24/2018-06-04/doc-ihcmurvh4561607.shtml']"
      ]
     },
     "execution_count": 79,
     "metadata": {},
     "output_type": "execute_result"
    }
   ],
   "source": [
    "newsData['百度AI开发者大会将于7月4日-5日举办']"
   ]
  },
  {
   "cell_type": "code",
   "execution_count": 81,
   "metadata": {},
   "outputs": [
    {
     "name": "stdout",
     "output_type": "stream",
     "text": [
      "百度AI开发者大会将于7月4日-5日举办\n",
      "百度AI开发者大会定档7月4日 将发布革命性技术产品\n",
      "华为蓝血十杰黄卫伟：阿里腾讯百度都还不能说是成功\n",
      "百度领衔推出首个汽车移动支付解决方案：号称可以摆脱手机\n",
      "为什么百度踩过的坑，携程总要再跳一次？\n",
      "百度与深高速达成战略合作 将建立智能交通实验室\n",
      "百度外卖吃出疑似使用过的避孕套 店主:或是气球碎片\n",
      "百度与深高速达成战略合作，将建立智能交通实验室\n",
      "北百度南菜鸟格局初显 阿里将投资千亿布局智慧物流\n",
      "联手百度等公司，博泰推出首款汽车移动支付解决方案\n",
      "百度有望以CDR方式回归A股 其回归A股有什么好处？\n",
      "百度资本今年将争取再作出三到四笔投资\n",
      "百度输入法输“没钱”现广告？称手机厂商自定义行为\n",
      "百度输入法内输入\"没钱\"就出现借贷广告 已下线广告\n",
      "百度称未在输入法中植入广告 官方版无任何广告行为\n",
      "百度推移动支付车机，北汽新能源率先搭载\n",
      "百度向网友征集公立医院简称：围剿“冒牌”医院\n",
      "百度搜索再遭质疑：搜索iPhone故障 首推山寨维修点\n",
      "为打击“仿冒”公立医院，百度向网友征集医院简称\n",
      "百度回应\"简单搜索称搜索没广告 却现医院推荐链接\"\n"
     ]
    }
   ],
   "source": [
    "for ky in newsData:\n",
    "    print(ky)\n",
    "    #print('\\001'.join([ky] + newsData[ky]))"
   ]
  },
  {
   "cell_type": "code",
   "execution_count": 82,
   "metadata": {
    "collapsed": true
   },
   "outputs": [],
   "source": [
    "ky = '百度AI开发者大会将于7月4日-5日举办'"
   ]
  },
  {
   "cell_type": "code",
   "execution_count": 83,
   "metadata": {},
   "outputs": [
    {
     "name": "stdout",
     "output_type": "stream",
     "text": [
      "百度AI开发者大会将于7月4日-5日举办\u00012018-06-04\u0001新浪财经\u0001百度AI开发者大会将于7月4日-5日举办】百度 AI 开发者大会将于7月4日-5日在北京国家会议中心举办。届时将有来自全球数千名开发者、合作伙伴齐聚，共同探讨AI最前沿技术、产业、商业化 ...\u0001http://finance.sina.com.cn/7x24/2018-06-04/doc-ihcmurvh4561607.shtml\n"
     ]
    }
   ],
   "source": [
    "print('\\001'.join([ky] + newsData[ky]))"
   ]
  },
  {
   "cell_type": "code",
   "execution_count": 84,
   "metadata": {},
   "outputs": [
    {
     "data": {
      "text/plain": [
       "['百度AI开发者大会将于7月4日-5日举办',\n",
       " '2018-06-04',\n",
       " '新浪财经',\n",
       " '百度AI开发者大会将于7月4日-5日举办】百度 AI 开发者大会将于7月4日-5日在北京国家会议中心举办。届时将有来自全球数千名开发者、合作伙伴齐聚，共同探讨AI最前沿技术、产业、商业化 ...',\n",
       " 'http://finance.sina.com.cn/7x24/2018-06-04/doc-ihcmurvh4561607.shtml']"
      ]
     },
     "execution_count": 84,
     "metadata": {},
     "output_type": "execute_result"
    }
   ],
   "source": [
    "[ky] + newsData[ky]"
   ]
  }
 ],
 "metadata": {
  "kernelspec": {
   "display_name": "Python 3",
   "language": "python",
   "name": "python3"
  },
  "language_info": {
   "codemirror_mode": {
    "name": "ipython",
    "version": 3
   },
   "file_extension": ".py",
   "mimetype": "text/x-python",
   "name": "python",
   "nbconvert_exporter": "python",
   "pygments_lexer": "ipython3",
   "version": "3.6.2"
  }
 },
 "nbformat": 4,
 "nbformat_minor": 2
}
